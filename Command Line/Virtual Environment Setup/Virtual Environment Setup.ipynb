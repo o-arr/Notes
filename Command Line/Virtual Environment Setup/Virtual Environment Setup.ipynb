{
 "cells": [
  {
   "cell_type": "markdown",
   "id": "73aa0c39",
   "metadata": {},
   "source": [
    "A virtual environment allows you to install modules with different versions and to keep this separate from globally installed modules on the system.\n",
    "\n",
    "To create a basic virtual environment in Python, using the venv module, type the following in the command line:"
   ]
  },
  {
   "cell_type": "markdown",
   "id": "e5c9d546",
   "metadata": {},
   "source": [
    "```shell\n",
    "$ mkdir test-folder\n",
    "$ cd test-folder\n",
    "```"
   ]
  },
  {
   "cell_type": "markdown",
   "id": "04ffc7dc",
   "metadata": {},
   "source": [
    "On Windows to avoid an error occuring when installing venv:"
   ]
  },
  {
   "cell_type": "markdown",
   "id": "27307767",
   "metadata": {},
   "source": [
    "```shell\n",
    "$ Set-ExecutionPolicy Unrestricted -Scope Process\n",
    "```"
   ]
  },
  {
   "cell_type": "markdown",
   "id": "b566fdfb",
   "metadata": {},
   "source": [
    "To install the venv module, with a virtual environment called venv:"
   ]
  },
  {
   "cell_type": "markdown",
   "id": "c5db055f",
   "metadata": {},
   "source": [
    "```shell\n",
    "$ python -m venv venv\n",
    "```"
   ]
  },
  {
   "cell_type": "markdown",
   "id": "5a946f13",
   "metadata": {},
   "source": [
    "To activate the virtual environment:"
   ]
  },
  {
   "cell_type": "markdown",
   "id": "b38615d0",
   "metadata": {},
   "source": [
    "```shell\n",
    "$ .\\venv\\Scripts\\activate\n",
    "```"
   ]
  },
  {
   "cell_type": "markdown",
   "id": "6d89a92c",
   "metadata": {},
   "source": [
    "The command line cursor should now show (venv). The virtual environment is now activated.\n",
    "\n",
    "To deactivate the virtual environment:"
   ]
  },
  {
   "cell_type": "markdown",
   "id": "da08c1a3",
   "metadata": {},
   "source": [
    "```shell\n",
    "(venv)$ deactivate\n",
    "```"
   ]
  }
 ],
 "metadata": {
  "kernelspec": {
   "display_name": "Python 3 (ipykernel)",
   "language": "python",
   "name": "python3"
  },
  "language_info": {
   "codemirror_mode": {
    "name": "ipython",
    "version": 3
   },
   "file_extension": ".py",
   "mimetype": "text/x-python",
   "name": "python",
   "nbconvert_exporter": "python",
   "pygments_lexer": "ipython3",
   "version": "3.11.1"
  }
 },
 "nbformat": 4,
 "nbformat_minor": 5
}
